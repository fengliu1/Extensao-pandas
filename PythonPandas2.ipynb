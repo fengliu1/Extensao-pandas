{
  "nbformat": 4,
  "nbformat_minor": 0,
  "metadata": {
    "colab": {
      "provenance": []
    },
    "kernelspec": {
      "name": "python3",
      "display_name": "Python 3"
    },
    "language_info": {
      "name": "python"
    }
  },
  "cells": [
    {
      "cell_type": "code",
      "execution_count": null,
      "metadata": {
        "id": "zFtO8IbHQAO4"
      },
      "outputs": [],
      "source": [
        "import pandas as pd"
      ]
    },
    {
      "cell_type": "code",
      "source": [
        "combustiveis_df = pd.read_excel(\"ca-2021-02.xlsx\")\n",
        "display(combustiveis_df.head())"
      ],
      "metadata": {
        "id": "qs9xc0yESq3M"
      },
      "execution_count": null,
      "outputs": []
    },
    {
      "cell_type": "code",
      "source": [
        "combustiveis_df['Ativo'] = True\n",
        "\n",
        "display(combustiveis_df.head())"
      ],
      "metadata": {
        "id": "ceZHMbxSTDFI"
      },
      "execution_count": null,
      "outputs": []
    },
    {
      "cell_type": "code",
      "source": [
        "# Criar uma coluna \"Obs\" que tenha nela escrito \"MELHOR CIDADE\" quando a coluna Municipio for igual a SAO PAULO\n",
        "combustiveis_df['Obs'] = [\"MELHOR CIDADE\" if municipio == 'SAO PAULO' else None for municipio in combustiveis_df['Municipio']]\n",
        "display(combustiveis_df.loc[combustiveis_df['Municipio'].isin(['SAO PAULO','INDAIATUBA', 'CAMPINAS', 'SALTO']), ['Municipio', 'Obs']])\n"
      ],
      "metadata": {
        "id": "h3RXhZxnT8GF"
      },
      "execution_count": null,
      "outputs": []
    },
    {
      "cell_type": "code",
      "source": [
        "# se o valor de venda for maior que 6,5 reais, ele fala que ta caro, caso contrário, está barato\n",
        "import numpy as np\n",
        "\n",
        "combustiveis_df['Status do Valor de Venda'] = np.where(combustiveis_df['Valor de Venda'] > 6.5, 'Caro', 'Barato')\n",
        "display(combustiveis_df[['Revenda', 'Valor de Venda', 'Status do Valor de Venda']])"
      ],
      "metadata": {
        "id": "BB6UcXpwV8K1"
      },
      "execution_count": null,
      "outputs": []
    },
    {
      "cell_type": "code",
      "source": [
        "# Calcular postos de gasolina por habitante temos na amostragem de combustiveis 11/21\n",
        "\n",
        "num_habitantes_df = pd.read_csv(\"ibge_num_habitantes_estimado.csv\", sep=\";\")\n",
        "num_habitantes_df.rename(columns={\"Estado\":\"Estado - Sigla\"}, inplace=True)\n",
        "display(num_habitantes_df)"
      ],
      "metadata": {
        "id": "1zJrcclcZe_o"
      },
      "execution_count": null,
      "outputs": []
    },
    {
      "cell_type": "code",
      "source": [
        "colunas = ['Municipio', 'Estado - Sigla']\n",
        "merge_df = combustiveis_df.merge(num_habitantes_df, how=\"inner\", on=colunas)\n",
        "display(merge_df)\n",
        "print(merge_df.info())"
      ],
      "metadata": {
        "id": "itOGU5FwgRfP"
      },
      "execution_count": null,
      "outputs": []
    },
    {
      "cell_type": "code",
      "source": [
        "merge_df.dropna(axis='columns', inplace=True)\n",
        "print(merge_df.info())"
      ],
      "metadata": {
        "id": "pfa6NpE7qA-3"
      },
      "execution_count": null,
      "outputs": []
    },
    {
      "cell_type": "code",
      "source": [
        "colunas=['Regiao - Sigla', 'Nome da Rua', 'Numero Rua', \n",
        "         'Bairro', 'Cep', 'Produto', 'Data da Coleta', 'Valor de Venda',\n",
        "         'Unidade de Medida', 'Bandeira', 'Ativo', 'Status do Valor de Venda']\n",
        "merge_df.drop(labels=colunas, axis=1, inplace=True)\n",
        "print(merge_df.info())"
      ],
      "metadata": {
        "id": "YTLRuwYDsCAf"
      },
      "execution_count": null,
      "outputs": []
    },
    {
      "cell_type": "code",
      "source": [
        "display(merge_df.head(100))"
      ],
      "metadata": {
        "id": "7HiE4lDQtrfX"
      },
      "execution_count": null,
      "outputs": []
    },
    {
      "cell_type": "code",
      "source": [
        "# Remover a linhas duplicadas\n",
        "merge_df.drop_duplicates(inplace=True)\n",
        "display(merge_df.head(100))"
      ],
      "metadata": {
        "id": "f-Ptg3-GugZT"
      },
      "execution_count": null,
      "outputs": []
    },
    {
      "cell_type": "code",
      "source": [
        "postos_por_municipio_df = merge_df.groupby(by=['Estado - Sigla', 'Municipio', 'NumHabitantes2021']).count()\n",
        "postos_por_municipio_df.reset_index(inplace=True)\n",
        "\n",
        "postos_por_municipio_df.drop('CNPJ da Revenda', axis=1, inplace=True)\n",
        "postos_por_municipio_df.rename(columns={\"Revenda\": \"NumPostos\"}, inplace=True)\n",
        "\n",
        "postos_por_municipio_df['NumHabitantesPorPosto'] = postos_por_municipio_df['NumHabitantes2021'] / postos_por_municipio_df['NumPostos']\n",
        "\n",
        "display(postos_por_municipio_df)"
      ],
      "metadata": {
        "id": "XhbsvtYtvCNP"
      },
      "execution_count": null,
      "outputs": []
    },
    {
      "cell_type": "code",
      "source": [
        "import matplotlib.pyplot as plt\n",
        "plt.hist(combustiveis_df['Valor de venda'])\n",
        "\n",
        "plt.title('Valor médio dos combustíveis - Nov/2021')\n",
        "plt.xlabel('Preço (em reais)')\n",
        "plt.ylabel('Quantidade de coletas')\n",
        "\n",
        "plt.axvline(combustiveis_df['Valor de Venda'].mean(), color='red', linestyle='dashed', linewidth=5)\n",
        "\n",
        "plt.show()\n"
      ],
      "metadata": {
        "id": "6aojVvXgHzXF"
      },
      "execution_count": null,
      "outputs": []
    },
    {
      "cell_type": "code",
      "source": [
        "c_mean = combustiveis_df['Valor de Venda'].groupby(by=combustiveis_df['Produto']).mean()\n",
        "display(c_mean)\n",
        "     \n",
        "plt.figure(figsize=(7,5))\n",
        "\n",
        "c_mean.plot(\n",
        "    kind=\"barh\",\n",
        "    xlabel=\"Tipo de Combustível\",\n",
        "    ylabel=\"Preço reais/litro\",\n",
        "    color=\"red\"\n",
        ")\n",
        "\n",
        "plt.grid()\n",
        "\n",
        "plt.show()"
      ],
      "metadata": {
        "id": "Ev4FiLAFH-if"
      },
      "execution_count": null,
      "outputs": []
    },
    {
      "cell_type": "code",
      "source": [
        "import seaborn as sns\n",
        "\n",
        "plt.figure(figsize=(7,5))\n",
        "\n",
        "c_mean.plot(\n",
        "    kind=\"barh\",\n",
        "    xlabel=\"Tipo de Combustível\",\n",
        "    ylabel=\"Preço reais/litro\",\n",
        "    title=\"Média de preços por combustível\",\n",
        "    color=\"red\",\n",
        "    alpha=0.3\n",
        ")\n",
        "\n",
        "plt.grid()\n",
        "sns.despine()\n",
        "\n",
        "plt.show()"
      ],
      "metadata": {
        "id": "zpsMGAB1IpbA"
      },
      "execution_count": null,
      "outputs": []
    },
    {
      "cell_type": "code",
      "source": [
        "display(c_mean)\n",
        "\n",
        "excel = \"por_litro.xlsx\"\n",
        "c_mean.to_excel(excel, \"Sumário\")"
      ],
      "metadata": {
        "id": "Y84zU8MMIxGw"
      },
      "execution_count": null,
      "outputs": []
    },
    {
      "cell_type": "code",
      "source": [
        "from openpyxl import load_workbook\n",
        "from openpyxl.styles import PatternFill, Font, Color, Alignment\n",
        "\n",
        "#Vai abrir o Excel no openpyxl\n",
        "wb = load_workbook(excel)\n",
        "\n",
        "#Pegar a planilha certa usando o Sheet Name\n",
        "ws = wb['Sumário']\n",
        "\n",
        "#Vamos pintar o cabeçalho da tabela de \"cinza\"\n",
        "cinzinha = PatternFill(\"solid\", fgColor=\"CCCCCC\")\n",
        "coords = ['A1', 'B1']\n",
        "for coord in coords:\n",
        "  ws[coord].fill = cinzinha\n",
        "\n",
        "#Onde o preço do combustível for maior ou igual a 6,5 reais (6.5) pinta a fonte de vermelho e deixa negrito\n",
        "MAX_ROW = ws.max_row\n",
        "num_linha = 2\n",
        "while (num_linha <= MAX_ROW):\n",
        "  coord = 'B'+str(num_linha)\n",
        "  if ws[coord].value >= 6.5:\n",
        "    ws[coord].font = Font(bold=True, color=\"FF0000\")\n",
        "  num_linha = num_linha + 1\n",
        "\n",
        "wb.save(excel)"
      ],
      "metadata": {
        "id": "lxmZl82oI1LY"
      },
      "execution_count": null,
      "outputs": []
    }
  ]
}